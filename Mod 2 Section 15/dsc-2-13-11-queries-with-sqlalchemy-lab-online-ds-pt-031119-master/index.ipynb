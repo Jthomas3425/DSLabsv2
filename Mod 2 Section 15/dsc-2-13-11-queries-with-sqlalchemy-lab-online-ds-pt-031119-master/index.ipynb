{
 "cells": [
  {
   "cell_type": "markdown",
   "metadata": {},
   "source": [
    "# Querying with SQLAlchemy - Lab\n",
    "\n",
    "## Introduction\n",
    "\n",
    "In this lesson, we'll learn how to use SQLAlchemy to write queries about Microsoft's _Northwind Traders_ database!\n",
    "\n",
    "## Objectives\n",
    "\n",
    "You will be able to:\n",
    "\n",
    "* Read and understand an ERD diagram\n",
    "* Create queries with SQLAlchemy, including queries that involve many-to-many relationships\n",
    "\n",
    "## Getting Started\n",
    "\n",
    "In order to complete this lab, we'll need to download a SQLite3-compatible version of the _Northwind Traders_ database from Microsoft.  Microsoft built this database back in the year 2000 to help showcase their SQL Server technology. Since then, it has been open-sourced and has become a great practice tool for every new generation of SQL learners. \n",
    "\n",
    "Lucky for us, some generous programmers have already converted the Northwind database to a sqlite-compatible version and posted it on Github. We've already included the file the SQL database file that we'll be working with in the repo for this folder, along with the following ERD Diagram. However, if you would like to work with the larger version of this dataset at a future time, just clone [this repo](https://github.com/jpwhite3/northwind-SQLite3) and follow their instructions to access it!\n",
    "\n",
    "## ERD Diagram For Northwind Traders\n",
    "\n",
    "The following ERD Diagram describes the Northwind Traders Database:\n",
    "\n",
    "<img src='Northwind_ERD.png'>\n",
    "\n",
    "If the text seems a bit hard to read inside this jupyter notebook, just go into the folder for this repo and open the `Northwind_ERD.png` file manually to see it full size. \n",
    "\n",
    "## Connecting to the Database\n",
    "\n",
    "The first thing we'll need to do is connect to the Northwind Traders database, which can be found in the file `Northwind_small.sqlite`.\n",
    "\n",
    "In the cell below, import the necessary tools from the `sqlalchemy` library, and take the necessary steps to connect to the database.\n",
    "\n",
    "**_NOTE:_** We won't be modifying the information in the database at all, just querying it, so there's no need to import the various things you would need to create declarative base classes and the like."
   ]
  },
  {
   "cell_type": "code",
   "execution_count": 1,
   "metadata": {},
   "outputs": [],
   "source": [
    "import sqlalchemy\n",
    "from sqlalchemy import create_engine\n",
    "from sqlalchemy.orm import Session, sessionmaker\n",
    "\n",
    "engine = create_engine('sqlite:///Northwind_small.sqlite')\n",
    "Session = sessionmaker(bind=engine)\n",
    "session = Session()"
   ]
  },
  {
   "cell_type": "markdown",
   "metadata": {},
   "source": [
    "## Get Table Names and Table Information\n",
    "\n",
    "One of the most useful things we can do when working with a new database is to inspect the tables until we have a solid idea of what we're looking at.  As you work through this lab, you'll notice that there are some small discrepancies between the Table/Column names listed in the ERD and what they are actually are in the database.  This may be annoying, but this is not an accident--sometimes, documentation is wrong!  By learning how to inspect what tables exist in a database, as well as how which columns exist inside a table, we can save ourselves a lot of headaches by double checking. \n",
    "\n",
    "In the cell below:\n",
    "\n",
    "* Import `inspect` from sqlalchemy\n",
    "* Create an inspector object by passing in `engine` to `inspect`\n",
    "* Use the appropriate inspector function to get the names of all tables"
   ]
  },
  {
   "cell_type": "code",
   "execution_count": 2,
   "metadata": {},
   "outputs": [
    {
     "name": "stdout",
     "output_type": "stream",
     "text": [
      "['Category', 'Customer', 'CustomerCustomerDemo', 'CustomerDemographic', 'Employee', 'EmployeeTerritory', 'Order', 'OrderDetail', 'Product', 'Region', 'Shipper', 'Supplier', 'Territory']\n"
     ]
    }
   ],
   "source": [
    "from sqlalchemy import inspect\n",
    "inspector = inspect(engine)\n",
    "print(inspector.get_table_names())"
   ]
  },
  {
   "cell_type": "markdown",
   "metadata": {},
   "source": [
    "Great! We can now see exactly what each Table is named. \n",
    "\n",
    "**_Question_**:\n",
    "\n",
    "Are there any discrepancies between the table names and the ERD diagrams? if so, what are they?\n",
    "\n",
    "Write your answer below this line:\n",
    "______________________________________________________________________________________________________________________________\n",
    "\n",
    "- Employees is plural in ERD\n",
    "- Suppliers is plural in the ERD\n",
    "\n",
    "\n",
    "\n",
    "Let's inspect the column names on one of the tables as well. In the cell below, call the appropriate method to get all column names for the `'Employee'` table. "
   ]
  },
  {
   "cell_type": "code",
   "execution_count": 12,
   "metadata": {},
   "outputs": [
    {
     "ename": "TypeError",
     "evalue": "list indices must be integers or slices, not str",
     "output_type": "error",
     "traceback": [
      "\u001b[1;31m---------------------------------------------------------------------------\u001b[0m",
      "\u001b[1;31mTypeError\u001b[0m                                 Traceback (most recent call last)",
      "\u001b[1;32m<ipython-input-12-646d53b65e9d>\u001b[0m in \u001b[0;36m<module>\u001b[1;34m\u001b[0m\n\u001b[0;32m      2\u001b[0m \u001b[0mcolumns\u001b[0m \u001b[1;33m=\u001b[0m \u001b[0minspector\u001b[0m\u001b[1;33m.\u001b[0m\u001b[0mget_columns\u001b[0m\u001b[1;33m(\u001b[0m\u001b[1;34m'Employee'\u001b[0m\u001b[1;33m)\u001b[0m\u001b[1;33m\u001b[0m\u001b[1;33m\u001b[0m\u001b[0m\n\u001b[0;32m      3\u001b[0m \u001b[1;32mfor\u001b[0m \u001b[0mc_names\u001b[0m \u001b[1;32min\u001b[0m \u001b[0mcolumns\u001b[0m\u001b[1;33m:\u001b[0m\u001b[1;33m\u001b[0m\u001b[1;33m\u001b[0m\u001b[0m\n\u001b[1;32m----> 4\u001b[1;33m     \u001b[1;32mfor\u001b[0m \u001b[0mcolumns\u001b[0m \u001b[1;32min\u001b[0m \u001b[0mcolumns\u001b[0m\u001b[1;33m[\u001b[0m\u001b[1;34m'names'\u001b[0m\u001b[1;33m]\u001b[0m\u001b[1;33m:\u001b[0m\u001b[1;33m\u001b[0m\u001b[1;33m\u001b[0m\u001b[0m\n\u001b[0m\u001b[0;32m      5\u001b[0m         \u001b[0mprint\u001b[0m\u001b[1;33m(\u001b[0m\u001b[0mcolumns\u001b[0m\u001b[1;33m)\u001b[0m\u001b[1;33m\u001b[0m\u001b[1;33m\u001b[0m\u001b[0m\n",
      "\u001b[1;31mTypeError\u001b[0m: list indices must be integers or slices, not str"
     ]
    }
   ],
   "source": [
    "# print(inspector.get_columns('Employee'))\n",
    "columns = inspector.get_columns('Employee')\n",
    "for c_names in columns:"
   ]
  },
  {
   "cell_type": "markdown",
   "metadata": {},
   "source": [
    "That output is good, but its a bit messy. Let's write a function that makes it a bit more readable, and only tells us what we need to know. \n",
    "\n",
    "The current structure of the output is a list of dictionaries. Complete the function below so that when the function is called and passed a table name, it prints out the name and type of each column in a well-formatted way. "
   ]
  },
  {
   "cell_type": "code",
   "execution_count": 13,
   "metadata": {},
   "outputs": [
    {
     "name": "stdout",
     "output_type": "stream",
     "text": [
      "Table Name: None\n",
      "\n",
      "Name: Id \t Type: INTEGER\n",
      "Name: LastName \t Type: VARCHAR(8000)\n",
      "Name: FirstName \t Type: VARCHAR(8000)\n",
      "Name: Title \t Type: VARCHAR(8000)\n",
      "Name: TitleOfCourtesy \t Type: VARCHAR(8000)\n",
      "Name: BirthDate \t Type: VARCHAR(8000)\n",
      "Name: HireDate \t Type: VARCHAR(8000)\n",
      "Name: Address \t Type: VARCHAR(8000)\n",
      "Name: City \t Type: VARCHAR(8000)\n",
      "Name: Region \t Type: VARCHAR(8000)\n",
      "Name: PostalCode \t Type: VARCHAR(8000)\n",
      "Name: Country \t Type: VARCHAR(8000)\n",
      "Name: HomePhone \t Type: VARCHAR(8000)\n",
      "Name: Extension \t Type: VARCHAR(8000)\n",
      "Name: Photo \t Type: BLOB\n",
      "Name: Notes \t Type: VARCHAR(8000)\n",
      "Name: ReportsTo \t Type: INTEGER\n",
      "Name: PhotoPath \t Type: VARCHAR(8000)\n"
     ]
    }
   ],
   "source": [
    "def get_columns_info(col_name):\n",
    "    cols_list = inspector.get_columns('Employee')\n",
    "    \n",
    "    print(\"Table Name: {}\".format(None))\n",
    "    print(\"\")\n",
    "    \n",
    "    for c_names in cols_list:\n",
    "        print(\"Name: {} \\t Type: {}\".format(c_names['name'], c_names['type']))\n",
    "\n",
    "get_columns_info('Employee')"
   ]
  },
  {
   "cell_type": "raw",
   "metadata": {},
   "source": [
    "# Expected Output:\n",
    "\n",
    "Table Name: Employee\n",
    "\n",
    "Name: Id \t Type: INTEGER\n",
    "Name: LastName \t Type: VARCHAR(8000)\n",
    "Name: FirstName \t Type: VARCHAR(8000)\n",
    "Name: Title \t Type: VARCHAR(8000)\n",
    "Name: TitleOfCourtesy \t Type: VARCHAR(8000)\n",
    "Name: BirthDate \t Type: VARCHAR(8000)\n",
    "Name: HireDate \t Type: VARCHAR(8000)\n",
    "Name: Address \t Type: VARCHAR(8000)\n",
    "Name: City \t Type: VARCHAR(8000)\n",
    "Name: Region \t Type: VARCHAR(8000)\n",
    "Name: PostalCode \t Type: VARCHAR(8000)\n",
    "Name: Country \t Type: VARCHAR(8000)\n",
    "Name: HomePhone \t Type: VARCHAR(8000)\n",
    "Name: Extension \t Type: VARCHAR(8000)\n",
    "Name: Photo \t Type: BLOB\n",
    "Name: Notes \t Type: VARCHAR(8000)\n",
    "Name: ReportsTo \t Type: INTEGER\n",
    "Name: PhotoPath \t Type: VARCHAR(8000)"
   ]
  },
  {
   "cell_type": "markdown",
   "metadata": {},
   "source": [
    "## Connecting and Executing Raw SQL Statements\n",
    "\n",
    "Sometimes, the easiest thing for us to do is to just execute a raw SQL statement.  This is very easy with SQLAlchemy--we just need to establish a connection, and then use the appropriat methods to execute SQL statements!\n",
    "\n",
    "In the cell below:\n",
    "\n",
    "* Create a connection using the `engine` object's appropriate method and store it in the variable `con`\n",
    "* Use the appropriate method from `con` to execute a raw SQL statement (in the form of a string) that gets everything from the `'Customer'` table with a LIMIT of 5. Store the results returned in the variable `rs`\n",
    "* Use the `fetchall()` method to display all results from `rs`."
   ]
  },
  {
   "cell_type": "code",
   "execution_count": 15,
   "metadata": {},
   "outputs": [
    {
     "name": "stdout",
     "output_type": "stream",
     "text": [
      "[('ALFKI', 'Alfreds Futterkiste', 'Maria Anders', 'Sales Representative', 'Obere Str. 57', 'Berlin', 'Western Europe', '12209', 'Germany', '030-0074321', '030-0076545'), ('ANATR', 'Ana Trujillo Emparedados y helados', 'Ana Trujillo', 'Owner', 'Avda. de la Constitución 2222', 'México D.F.', 'Central America', '05021', 'Mexico', '(5) 555-4729', '(5) 555-3745'), ('ANTON', 'Antonio Moreno Taquería', 'Antonio Moreno', 'Owner', 'Mataderos  2312', 'México D.F.', 'Central America', '05023', 'Mexico', '(5) 555-3932', None), ('AROUT', 'Around the Horn', 'Thomas Hardy', 'Sales Representative', '120 Hanover Sq.', 'London', 'British Isles', 'WA1 1DP', 'UK', '(171) 555-7788', '(171) 555-6750'), ('BERGS', 'Berglunds snabbköp', 'Christina Berglund', 'Order Administrator', 'Berguvsvägen  8', 'Luleå', 'Northern Europe', 'S-958 22', 'Sweden', '0921-12 34 65', '0921-12 34 67'), ('BLAUS', 'Blauer See Delikatessen', 'Hanna Moos', 'Sales Representative', 'Forsterstr. 57', 'Mannheim', 'Western Europe', '68306', 'Germany', '0621-08460', '0621-08924'), ('BLONP', 'Blondesddsl père et fils', 'Frédérique Citeaux', 'Marketing Manager', '24, place Kléber', 'Strasbourg', 'Western Europe', '67000', 'France', '88.60.15.31', '88.60.15.32'), ('BOLID', 'Bólido Comidas preparadas', 'Martín Sommer', 'Owner', 'C/ Araquil, 67', 'Madrid', 'Southern Europe', '28023', 'Spain', '(91) 555 22 82', '(91) 555 91 99'), ('BONAP', 'Bon app', 'Laurence Lebihan', 'Owner', '12, rue des Bouchers', 'Marseille', 'Western Europe', '13008', 'France', '91.24.45.40', '91.24.45.41'), ('BOTTM', 'Bottom-Dollar Markets', 'Elizabeth Lincoln', 'Accounting Manager', '23 Tsawassen Blvd.', 'Tsawassen', 'North America', 'T2F 8M4', 'Canada', '(604) 555-4729', '(604) 555-3745'), ('BSBEV', \"B's Beverages\", 'Victoria Ashworth', 'Sales Representative', 'Fauntleroy Circus', 'London', 'British Isles', 'EC2 5NT', 'UK', '(171) 555-1212', None), ('CACTU', 'Cactus Comidas para llevar', 'Patricio Simpson', 'Sales Agent', 'Cerrito 333', 'Buenos Aires', 'South America', '1010', 'Argentina', '(1) 135-5555', '(1) 135-4892'), ('CENTC', 'Centro comercial Moctezuma', 'Francisco Chang', 'Marketing Manager', 'Sierras de Granada 9993', 'México D.F.', 'Central America', '05022', 'Mexico', '(5) 555-3392', '(5) 555-7293'), ('CHOPS', 'Chop-suey Chinese', 'Yang Wang', 'Owner', 'Hauptstr. 29', 'Bern', 'Western Europe', '3012', 'Switzerland', '0452-076545', None), ('COMMI', 'Comércio Mineiro', 'Pedro Afonso', 'Sales Associate', 'Av. dos Lusíadas, 23', 'Sao Paulo', 'South America', '05432-043', 'Brazil', '(11) 555-7647', None), ('CONSH', 'Consolidated Holdings', 'Elizabeth Brown', 'Sales Representative', 'Berkeley Gardens 12  Brewery', 'London', 'British Isles', 'WX1 6LT', 'UK', '(171) 555-2282', '(171) 555-9199'), ('DRACD', 'Drachenblut Delikatessen', 'Sven Ottlieb', 'Order Administrator', 'Walserweg 21', 'Aachen', 'Western Europe', '52066', 'Germany', '0241-039123', '0241-059428'), ('DUMON', 'Du monde entier', 'Janine Labrune', 'Owner', '67, rue des Cinquante Otages', 'Nantes', 'Western Europe', '44000', 'France', '40.67.88.88', '40.67.89.89'), ('EASTC', 'Eastern Connection', 'Ann Devon', 'Sales Agent', '35 King George', 'London', 'British Isles', 'WX3 6FW', 'UK', '(171) 555-0297', '(171) 555-3373'), ('ERNSH', 'Ernst Handel', 'Roland Mendel', 'Sales Manager', 'Kirchgasse 6', 'Graz', 'Western Europe', '8010', 'Austria', '7675-3425', '7675-3426'), ('FAMIA', 'Familia Arquibaldo', 'Aria Cruz', 'Marketing Assistant', 'Rua Orós, 92', 'Sao Paulo', 'South America', '05442-030', 'Brazil', '(11) 555-9857', None), ('FISSA', 'FISSA Fabrica Inter. Salchichas S.A.', 'Diego Roel', 'Accounting Manager', 'C/ Moralzarzal, 86', 'Madrid', 'Southern Europe', '28034', 'Spain', '(91) 555 94 44', '(91) 555 55 93'), ('FOLIG', 'Folies gourmandes', 'Martine Rancé', 'Assistant Sales Agent', '184, chaussée de Tournai', 'Lille', 'Western Europe', '59000', 'France', '20.16.10.16', '20.16.10.17'), ('FOLKO', 'Folk och fä HB', 'Maria Larsson', 'Owner', 'Åkergatan 24', 'Bräcke', 'Northern Europe', 'S-844 67', 'Sweden', '0695-34 67 21', None), ('FRANK', 'Frankenversand', 'Peter Franken', 'Marketing Manager', 'Berliner Platz 43', 'München', 'Western Europe', '80805', 'Germany', '089-0877310', '089-0877451'), ('FRANR', 'France restauration', 'Carine Schmitt', 'Marketing Manager', '54, rue Royale', 'Nantes', 'Western Europe', '44000', 'France', '40.32.21.21', '40.32.21.20'), ('FRANS', 'Franchi S.p.A.', 'Paolo Accorti', 'Sales Representative', 'Via Monte Bianco 34', 'Torino', 'Southern Europe', '10100', 'Italy', '011-4988260', '011-4988261'), ('FURIB', 'Furia Bacalhau e Frutos do Mar', 'Lino Rodriguez', 'Sales Manager', 'Jardim das rosas n. 32', 'Lisboa', 'Southern Europe', '1675', 'Portugal', '(1) 354-2534', '(1) 354-2535'), ('GALED', 'Galería del gastrónomo', 'Eduardo Saavedra', 'Marketing Manager', 'Rambla de Cataluña, 23', 'Barcelona', 'Southern Europe', '08022', 'Spain', '(93) 203 4560', '(93) 203 4561'), ('GODOS', 'Godos Cocina Típica', 'José Pedro Freyre', 'Sales Manager', 'C/ Romero, 33', 'Sevilla', 'Southern Europe', '41101', 'Spain', '(95) 555 82 82', None), ('GOURL', 'Gourmet Lanchonetes', 'André Fonseca', 'Sales Associate', 'Av. Brasil, 442', 'Campinas', 'South America', '04876-786', 'Brazil', '(11) 555-9482', None), ('GREAL', 'Great Lakes Food Market', 'Howard Snyder', 'Marketing Manager', '2732 Baker Blvd.', 'Eugene', 'North America', '97403', 'USA', '(503) 555-7555', None), ('GROSR', 'GROSELLA-Restaurante', 'Manuel Pereira', 'Owner', '5ª Ave. Los Palos Grandes', 'Caracas', 'South America', '1081', 'Venezuela', '(2) 283-2951', '(2) 283-3397'), ('HANAR', 'Hanari Carnes', 'Mario Pontes', 'Accounting Manager', 'Rua do Paço, 67', 'Rio de Janeiro', 'South America', '05454-876', 'Brazil', '(21) 555-0091', '(21) 555-8765'), ('HILAA', 'HILARION-Abastos', 'Carlos Hernández', 'Sales Representative', 'Carrera 22 con Ave. Carlos Soublette #8-35', 'San Cristóbal', 'South America', '5022', 'Venezuela', '(5) 555-1340', '(5) 555-1948'), ('HUNGC', 'Hungry Coyote Import Store', 'Yoshi Latimer', 'Sales Representative', 'City Center Plaza 516 Main St.', 'Elgin', 'North America', '97827', 'USA', '(503) 555-6874', '(503) 555-2376'), ('HUNGO', 'Hungry Owl All-Night Grocers', 'Patricia McKenna', 'Sales Associate', '8 Johnstown Road', 'Cork', 'British Isles', None, 'Ireland', '2967 542', '2967 3333'), ('ISLAT', 'Island Trading', 'Helen Bennett', 'Marketing Manager', 'Garden House Crowther Way', 'Cowes', 'British Isles', 'PO31 7PJ', 'UK', '(198) 555-8888', None), ('KOENE', 'Königlich Essen', 'Philip Cramer', 'Sales Associate', 'Maubelstr. 90', 'Brandenburg', 'Western Europe', '14776', 'Germany', '0555-09876', None), ('LACOR', \"La corne d'abondance\", 'Daniel Tonini', 'Sales Representative', \"67, avenue de l'Europe\", 'Versailles', 'Western Europe', '78000', 'France', '30.59.84.10', '30.59.85.11'), ('LAMAI', \"La maison d'Asie\", 'Annette Roulet', 'Sales Manager', '1 rue Alsace-Lorraine', 'Toulouse', 'Western Europe', '31000', 'France', '61.77.61.10', '61.77.61.11'), ('LAUGB', 'Laughing Bacchus Wine Cellars', 'Yoshi Tannamuri', 'Marketing Assistant', '1900 Oak St.', 'Vancouver', 'North America', 'V3F 2K1', 'Canada', '(604) 555-3392', '(604) 555-7293'), ('LAZYK', 'Lazy K Kountry Store', 'John Steel', 'Marketing Manager', '12 Orchestra Terrace', 'Walla Walla', 'North America', '99362', 'USA', '(509) 555-7969', '(509) 555-6221'), ('LEHMS', 'Lehmanns Marktstand', 'Renate Messner', 'Sales Representative', 'Magazinweg 7', 'Frankfurt a.M.', 'Western Europe', '60528', 'Germany', '069-0245984', '069-0245874'), ('LETSS', \"Let's Stop N Shop\", 'Jaime Yorres', 'Owner', '87 Polk St. Suite 5', 'San Francisco', 'North America', '94117', 'USA', '(415) 555-5938', None), ('LILAS', 'LILA-Supermercado', 'Carlos González', 'Accounting Manager', 'Carrera 52 con Ave. Bolívar #65-98 Llano Largo', 'Barquisimeto', 'South America', '3508', 'Venezuela', '(9) 331-6954', '(9) 331-7256'), ('LINOD', 'LINO-Delicateses', 'Felipe Izquierdo', 'Owner', 'Ave. 5 de Mayo Porlamar', 'I. de Margarita', 'South America', '4980', 'Venezuela', '(8) 34-56-12', '(8) 34-93-93'), ('LONEP', 'Lonesome Pine Restaurant', 'Fran Wilson', 'Sales Manager', '89 Chiaroscuro Rd.', 'Portland', 'North America', '97219', 'USA', '(503) 555-9573', '(503) 555-9646'), ('MAGAA', 'Magazzini Alimentari Riuniti', 'Giovanni Rovelli', 'Marketing Manager', 'Via Ludovico il Moro 22', 'Bergamo', 'Southern Europe', '24100', 'Italy', '035-640230', '035-640231'), ('MAISD', 'Maison Dewey', 'Catherine Dewey', 'Sales Agent', 'Rue Joseph-Bens 532', 'Bruxelles', 'Western Europe', 'B-1180', 'Belgium', '(02) 201 24 67', '(02) 201 24 68'), ('MEREP', 'Mère Paillarde', 'Jean Fresnière', 'Marketing Assistant', '43 rue St. Laurent', 'Montréal', 'North America', 'H1J 1C3', 'Canada', '(514) 555-8054', '(514) 555-8055'), ('MORGK', 'Morgenstern Gesundkost', 'Alexander Feuer', 'Marketing Assistant', 'Heerstr. 22', 'Leipzig', 'Western Europe', '04179', 'Germany', '0342-023176', None), ('NORTS', 'North/South', 'Simon Crowther', 'Sales Associate', 'South House 300 Queensbridge', 'London', 'British Isles', 'SW7 1RZ', 'UK', '(171) 555-7733', '(171) 555-2530'), ('OCEAN', 'Océano Atlántico Ltda.', 'Yvonne Moncada', 'Sales Agent', 'Ing. Gustavo Moncada 8585 Piso 20-A', 'Buenos Aires', 'South America', '1010', 'Argentina', '(1) 135-5333', '(1) 135-5535'), ('OLDWO', 'Old World Delicatessen', 'Rene Phillips', 'Sales Representative', '2743 Bering St.', 'Anchorage', 'North America', '99508', 'USA', '(907) 555-7584', '(907) 555-2880'), ('OTTIK', 'Ottilies Käseladen', 'Henriette Pfalzheim', 'Owner', 'Mehrheimerstr. 369', 'Köln', 'Western Europe', '50739', 'Germany', '0221-0644327', '0221-0765721'), ('PARIS', 'Paris spécialités', 'Marie Bertrand', 'Owner', '265, boulevard Charonne', 'Paris', 'Western Europe', '75012', 'France', '(1) 42.34.22.66', '(1) 42.34.22.77'), ('PERIC', 'Pericles Comidas clásicas', 'Guillermo Fernández', 'Sales Representative', 'Calle Dr. Jorge Cash 321', 'México D.F.', 'Central America', '05033', 'Mexico', '(5) 552-3745', '(5) 545-3745'), ('PICCO', 'Piccolo und mehr', 'Georg Pipps', 'Sales Manager', 'Geislweg 14', 'Salzburg', 'Western Europe', '5020', 'Austria', '6562-9722', '6562-9723'), ('PRINI', 'Princesa Isabel Vinhos', 'Isabel de Castro', 'Sales Representative', 'Estrada da saúde n. 58', 'Lisboa', 'Southern Europe', '1756', 'Portugal', '(1) 356-5634', None), ('QUEDE', 'Que Delícia', 'Bernardo Batista', 'Accounting Manager', 'Rua da Panificadora, 12', 'Rio de Janeiro', 'South America', '02389-673', 'Brazil', '(21) 555-4252', '(21) 555-4545'), ('QUEEN', 'Queen Cozinha', 'Lúcia Carvalho', 'Marketing Assistant', 'Alameda dos Canàrios, 891', 'Sao Paulo', 'South America', '05487-020', 'Brazil', '(11) 555-1189', None), ('QUICK', 'QUICK-Stop', 'Horst Kloss', 'Accounting Manager', 'Taucherstraße 10', 'Cunewalde', 'Western Europe', '01307', 'Germany', '0372-035188', None), ('RANCH', 'Rancho grande', 'Sergio Gutiérrez', 'Sales Representative', 'Av. del Libertador 900', 'Buenos Aires', 'South America', '1010', 'Argentina', '(1) 123-5555', '(1) 123-5556'), ('RATTC', 'Rattlesnake Canyon Grocery', 'Paula Wilson', 'Assistant Sales Representative', '2817 Milton Dr.', 'Albuquerque', 'North America', '87110', 'USA', '(505) 555-5939', '(505) 555-3620'), ('REGGC', 'Reggiani Caseifici', 'Maurizio Moroni', 'Sales Associate', 'Strada Provinciale 124', 'Reggio Emilia', 'Southern Europe', '42100', 'Italy', '0522-556721', '0522-556722'), ('RICAR', 'Ricardo Adocicados', 'Janete Limeira', 'Assistant Sales Agent', 'Av. Copacabana, 267', 'Rio de Janeiro', 'South America', '02389-890', 'Brazil', '(21) 555-3412', None), ('RICSU', 'Richter Supermarkt', 'Michael Holz', 'Sales Manager', 'Grenzacherweg 237', 'Genève', 'Western Europe', '1203', 'Switzerland', '0897-034214', None), ('ROMEY', 'Romero y tomillo', 'Alejandra Camino', 'Accounting Manager', 'Gran Vía, 1', 'Madrid', 'Southern Europe', '28001', 'Spain', '(91) 745 6200', '(91) 745 6210'), ('SANTG', 'Santé Gourmet', 'Jonas Bergulfsen', 'Owner', 'Erling Skakkes gate 78', 'Stavern', 'Scandinavia', '4110', 'Norway', '07-98 92 35', '07-98 92 47'), ('SAVEA', 'Save-a-lot Markets', 'Jose Pavarotti', 'Sales Representative', '187 Suffolk Ln.', 'Boise', 'North America', '83720', 'USA', '(208) 555-8097', None), ('SEVES', 'Seven Seas Imports', 'Hari Kumar', 'Sales Manager', '90 Wadhurst Rd.', 'London', 'British Isles', 'OX15 4NB', 'UK', '(171) 555-1717', '(171) 555-5646'), ('SIMOB', 'Simons bistro', 'Jytte Petersen', 'Owner', 'Vinbæltet 34', 'Kobenhavn', 'Northern Europe', '1734', 'Denmark', '31 12 34 56', '31 13 35 57'), ('SPECD', 'Spécialités du monde', 'Dominique Perrier', 'Marketing Manager', '25, rue Lauriston', 'Paris', 'Western Europe', '75016', 'France', '(1) 47.55.60.10', '(1) 47.55.60.20'), ('SPLIR', 'Split Rail Beer & Ale', 'Art Braunschweiger', 'Sales Manager', 'P.O. Box 555', 'Lander', 'North America', '82520', 'USA', '(307) 555-4680', '(307) 555-6525'), ('SUPRD', 'Suprêmes délices', 'Pascale Cartrain', 'Accounting Manager', 'Boulevard Tirou, 255', 'Charleroi', 'Western Europe', 'B-6000', 'Belgium', '(071) 23 67 22 20', '(071) 23 67 22 21'), ('THEBI', 'The Big Cheese', 'Liz Nixon', 'Marketing Manager', '89 Jefferson Way Suite 2', 'Portland', 'North America', '97201', 'USA', '(503) 555-3612', None), ('THECR', 'The Cracker Box', 'Liu Wong', 'Marketing Assistant', '55 Grizzly Peak Rd.', 'Butte', 'North America', '59801', 'USA', '(406) 555-5834', '(406) 555-8083'), ('TOMSP', 'Toms Spezialitäten', 'Karin Josephs', 'Marketing Manager', 'Luisenstr. 48', 'Münster', 'Western Europe', '44087', 'Germany', '0251-031259', '0251-035695'), ('TORTU', 'Tortuga Restaurante', 'Miguel Angel Paolino', 'Owner', 'Avda. Azteca 123', 'México D.F.', 'Central America', '05033', 'Mexico', '(5) 555-2933', None), ('TRADH', 'Tradição Hipermercados', 'Anabela Domingues', 'Sales Representative', 'Av. Inês de Castro, 414', 'Sao Paulo', 'South America', '05634-030', 'Brazil', '(11) 555-2167', '(11) 555-2168'), ('TRAIH', \"Trail's Head Gourmet Provisioners\", 'Helvetius Nagy', 'Sales Associate', '722 DaVinci Blvd.', 'Kirkland', 'North America', '98034', 'USA', '(206) 555-8257', '(206) 555-2174'), ('VAFFE', 'Vaffeljernet', 'Palle Ibsen', 'Sales Manager', 'Smagsloget 45', 'Århus', 'Northern Europe', '8200', 'Denmark', '86 21 32 43', '86 22 33 44'), ('VICTE', 'Victuailles en stock', 'Mary Saveley', 'Sales Agent', '2, rue du Commerce', 'Lyon', 'Western Europe', '69004', 'France', '78.32.54.86', '78.32.54.87'), ('VINET', 'Vins et alcools Chevalier', 'Paul Henriot', 'Accounting Manager', \"59 rue de l'Abbaye\", 'Reims', 'Western Europe', '51100', 'France', '26.47.15.10', '26.47.15.11'), ('WANDK', 'Die Wandernde Kuh', 'Rita Müller', 'Sales Representative', 'Adenauerallee 900', 'Stuttgart', 'Western Europe', '70563', 'Germany', '0711-020361', '0711-035428'), ('WARTH', 'Wartian Herkku', 'Pirkko Koskitalo', 'Accounting Manager', 'Torikatu 38', 'Oulu', 'Scandinavia', '90110', 'Finland', '981-443655', '981-443655'), ('WELLI', 'Wellington Importadora', 'Paula Parente', 'Sales Manager', 'Rua do Mercado, 12', 'Resende', 'South America', '08737-363', 'Brazil', '(14) 555-8122', None), ('WHITC', 'White Clover Markets', 'Karl Jablonski', 'Owner', '305 - 14th Ave. S. Suite 3B', 'Seattle', 'North America', '98128', 'USA', '(206) 555-4112', '(206) 555-4115'), ('WILMK', 'Wilman Kala', 'Matti Karttunen', 'Owner/Marketing Assistant', 'Keskuskatu 45', 'Helsinki', 'Scandinavia', '21240', 'Finland', '90-224 8858', '90-224 8858'), ('WOLZA', 'Wolski  Zajazd', 'Zbyszek Piestrzeniewicz', 'Owner', 'ul. Filtrowa 68', 'Warszawa', 'Eastern Europe', '01-012', 'Poland', '(26) 642-7012', '(26) 642-7012')]\n"
     ]
    }
   ],
   "source": [
    "con = engine.connect()\n",
    "rs = con.execute('SELECT * from Customer')\n",
    "\n",
    "print(rs.fetchall())"
   ]
  },
  {
   "cell_type": "raw",
   "metadata": {},
   "source": [
    "# Expected Output:\n",
    "\n",
    "[('ALFKI', 'Alfreds Futterkiste', 'Maria Anders', 'Sales Representative', 'Obere Str. 57', 'Berlin', 'Western Europe', '12209', 'Germany', '030-0074321', '030-0076545'), ('ANATR', 'Ana Trujillo Emparedados y helados', 'Ana Trujillo', 'Owner', 'Avda. de la Constitución 2222', 'México D.F.', 'Central America', '05021', 'Mexico', '(5) 555-4729', '(5) 555-3745'), ('ANTON', 'Antonio Moreno Taquería', 'Antonio Moreno', 'Owner', 'Mataderos  2312', 'México D.F.', 'Central America', '05023', 'Mexico', '(5) 555-3932', None), ('AROUT', 'Around the Horn', 'Thomas Hardy', 'Sales Representative', '120 Hanover Sq.', 'London', 'British Isles', 'WA1 1DP', 'UK', '(171) 555-7788', '(171) 555-6750'), ('BERGS', 'Berglunds snabbköp', 'Christina Berglund', 'Order Administrator', 'Berguvsvägen  8', 'Luleå', 'Northern Europe', 'S-958 22', 'Sweden', '0921-12 34 65', '0921-12 34 67')]"
   ]
  },
  {
   "cell_type": "markdown",
   "metadata": {},
   "source": [
    "## Incorporating Pandas DataFrames\n",
    "\n",
    "So far we've been able to easily connect to a SQL database, inspect the tables, and execute queries. However, the results returned from queries haven't been in an easily readable format.  We'll fix that by taking the results and storing it in a pandas DataFrame!\n",
    "\n",
    "In the cell below:\n",
    "\n",
    "* Import pandas and set the standard alias.\n",
    "* Create and execute a query that gets The firstname, lastname, and title of every person in the `'Employee'` table.\n",
    "* Create a pandas DataFrame out of the results returned from `rs.fetchall()`\n",
    "* Display the head of the new DataFRame"
   ]
  },
  {
   "cell_type": "code",
   "execution_count": 18,
   "metadata": {},
   "outputs": [
    {
     "data": {
      "text/html": [
       "<div>\n",
       "<style scoped>\n",
       "    .dataframe tbody tr th:only-of-type {\n",
       "        vertical-align: middle;\n",
       "    }\n",
       "\n",
       "    .dataframe tbody tr th {\n",
       "        vertical-align: top;\n",
       "    }\n",
       "\n",
       "    .dataframe thead th {\n",
       "        text-align: right;\n",
       "    }\n",
       "</style>\n",
       "<table border=\"1\" class=\"dataframe\">\n",
       "  <thead>\n",
       "    <tr style=\"text-align: right;\">\n",
       "      <th></th>\n",
       "      <th>0</th>\n",
       "      <th>1</th>\n",
       "      <th>2</th>\n",
       "    </tr>\n",
       "  </thead>\n",
       "  <tbody>\n",
       "    <tr>\n",
       "      <th>0</th>\n",
       "      <td>Nancy</td>\n",
       "      <td>Davolio</td>\n",
       "      <td>Sales Representative</td>\n",
       "    </tr>\n",
       "    <tr>\n",
       "      <th>1</th>\n",
       "      <td>Andrew</td>\n",
       "      <td>Fuller</td>\n",
       "      <td>Vice President, Sales</td>\n",
       "    </tr>\n",
       "    <tr>\n",
       "      <th>2</th>\n",
       "      <td>Janet</td>\n",
       "      <td>Leverling</td>\n",
       "      <td>Sales Representative</td>\n",
       "    </tr>\n",
       "    <tr>\n",
       "      <th>3</th>\n",
       "      <td>Margaret</td>\n",
       "      <td>Peacock</td>\n",
       "      <td>Sales Representative</td>\n",
       "    </tr>\n",
       "    <tr>\n",
       "      <th>4</th>\n",
       "      <td>Steven</td>\n",
       "      <td>Buchanan</td>\n",
       "      <td>Sales Manager</td>\n",
       "    </tr>\n",
       "  </tbody>\n",
       "</table>\n",
       "</div>"
      ],
      "text/plain": [
       "          0          1                      2\n",
       "0     Nancy    Davolio   Sales Representative\n",
       "1    Andrew     Fuller  Vice President, Sales\n",
       "2     Janet  Leverling   Sales Representative\n",
       "3  Margaret    Peacock   Sales Representative\n",
       "4    Steven   Buchanan          Sales Manager"
      ]
     },
     "execution_count": 18,
     "metadata": {},
     "output_type": "execute_result"
    }
   ],
   "source": [
    "import pandas as pd\n",
    "\n",
    "rs = con.execute('SELECT firstname, lastname, title from Employee')\n",
    "df = pd.DataFrame(rs.fetchall())\n",
    "df.head()"
   ]
  },
  {
   "cell_type": "markdown",
   "metadata": {},
   "source": [
    "Nice! We can now read our results.  However, the columns of our DataFrame aren't labeled.  Luckily, pandas plays nicely with the sqlalchemy library, and can actually execute sql queries!"
   ]
  },
  {
   "cell_type": "markdown",
   "metadata": {},
   "source": [
    "### Writing Queries with Pandas\n",
    "\n",
    "In the cell below:\n",
    "\n",
    "* Use the appropriate method from pandas to select all columns for every row in the `[Order]` table where the customer is `'VINET'`\n",
    "* Be sure to pass in our `engine` as the 2nd parameter, otherwise it won't work!\n",
    "* Display the head of the DataFrame created to ensure everything worked correctly."
   ]
  },
  {
   "cell_type": "code",
   "execution_count": 41,
   "metadata": {},
   "outputs": [
    {
     "name": "stdout",
     "output_type": "stream",
     "text": [
      "Table Name: None\n",
      "\n",
      "Name: Id \t Type: INTEGER\n",
      "Name: LastName \t Type: VARCHAR(8000)\n",
      "Name: FirstName \t Type: VARCHAR(8000)\n",
      "Name: Title \t Type: VARCHAR(8000)\n",
      "Name: TitleOfCourtesy \t Type: VARCHAR(8000)\n",
      "Name: BirthDate \t Type: VARCHAR(8000)\n",
      "Name: HireDate \t Type: VARCHAR(8000)\n",
      "Name: Address \t Type: VARCHAR(8000)\n",
      "Name: City \t Type: VARCHAR(8000)\n",
      "Name: Region \t Type: VARCHAR(8000)\n",
      "Name: PostalCode \t Type: VARCHAR(8000)\n",
      "Name: Country \t Type: VARCHAR(8000)\n",
      "Name: HomePhone \t Type: VARCHAR(8000)\n",
      "Name: Extension \t Type: VARCHAR(8000)\n",
      "Name: Photo \t Type: BLOB\n",
      "Name: Notes \t Type: VARCHAR(8000)\n",
      "Name: ReportsTo \t Type: INTEGER\n",
      "Name: PhotoPath \t Type: VARCHAR(8000)\n"
     ]
    }
   ],
   "source": [
    "get_columns_info('Customer')"
   ]
  },
  {
   "cell_type": "code",
   "execution_count": 42,
   "metadata": {},
   "outputs": [
    {
     "data": {
      "text/html": [
       "<div>\n",
       "<style scoped>\n",
       "    .dataframe tbody tr th:only-of-type {\n",
       "        vertical-align: middle;\n",
       "    }\n",
       "\n",
       "    .dataframe tbody tr th {\n",
       "        vertical-align: top;\n",
       "    }\n",
       "\n",
       "    .dataframe thead th {\n",
       "        text-align: right;\n",
       "    }\n",
       "</style>\n",
       "<table border=\"1\" class=\"dataframe\">\n",
       "  <thead>\n",
       "    <tr style=\"text-align: right;\">\n",
       "      <th></th>\n",
       "      <th>Id</th>\n",
       "      <th>CustomerId</th>\n",
       "      <th>EmployeeId</th>\n",
       "      <th>OrderDate</th>\n",
       "      <th>RequiredDate</th>\n",
       "      <th>ShippedDate</th>\n",
       "      <th>ShipVia</th>\n",
       "      <th>Freight</th>\n",
       "      <th>ShipName</th>\n",
       "      <th>ShipAddress</th>\n",
       "      <th>ShipCity</th>\n",
       "      <th>ShipRegion</th>\n",
       "      <th>ShipPostalCode</th>\n",
       "      <th>ShipCountry</th>\n",
       "    </tr>\n",
       "  </thead>\n",
       "  <tbody>\n",
       "    <tr>\n",
       "      <th>0</th>\n",
       "      <td>10248</td>\n",
       "      <td>VINET</td>\n",
       "      <td>5</td>\n",
       "      <td>2012-07-04</td>\n",
       "      <td>2012-08-01</td>\n",
       "      <td>2012-07-16</td>\n",
       "      <td>3</td>\n",
       "      <td>32.38</td>\n",
       "      <td>Vins et alcools Chevalier</td>\n",
       "      <td>59 rue de l'Abbaye</td>\n",
       "      <td>Reims</td>\n",
       "      <td>Western Europe</td>\n",
       "      <td>51100</td>\n",
       "      <td>France</td>\n",
       "    </tr>\n",
       "    <tr>\n",
       "      <th>1</th>\n",
       "      <td>10274</td>\n",
       "      <td>VINET</td>\n",
       "      <td>6</td>\n",
       "      <td>2012-08-06</td>\n",
       "      <td>2012-09-03</td>\n",
       "      <td>2012-08-16</td>\n",
       "      <td>1</td>\n",
       "      <td>6.01</td>\n",
       "      <td>Vins et alcools Chevalier</td>\n",
       "      <td>59 rue de l'Abbaye</td>\n",
       "      <td>Reims</td>\n",
       "      <td>Western Europe</td>\n",
       "      <td>51100</td>\n",
       "      <td>France</td>\n",
       "    </tr>\n",
       "    <tr>\n",
       "      <th>2</th>\n",
       "      <td>10295</td>\n",
       "      <td>VINET</td>\n",
       "      <td>2</td>\n",
       "      <td>2012-09-02</td>\n",
       "      <td>2012-09-30</td>\n",
       "      <td>2012-09-10</td>\n",
       "      <td>2</td>\n",
       "      <td>1.15</td>\n",
       "      <td>Vins et alcools Chevalier</td>\n",
       "      <td>59 rue de l'Abbaye</td>\n",
       "      <td>Reims</td>\n",
       "      <td>Western Europe</td>\n",
       "      <td>51100</td>\n",
       "      <td>France</td>\n",
       "    </tr>\n",
       "    <tr>\n",
       "      <th>3</th>\n",
       "      <td>10737</td>\n",
       "      <td>VINET</td>\n",
       "      <td>2</td>\n",
       "      <td>2013-11-11</td>\n",
       "      <td>2013-12-09</td>\n",
       "      <td>2013-11-18</td>\n",
       "      <td>2</td>\n",
       "      <td>7.79</td>\n",
       "      <td>Vins et alcools Chevalier</td>\n",
       "      <td>59 rue de l'Abbaye</td>\n",
       "      <td>Reims</td>\n",
       "      <td>Western Europe</td>\n",
       "      <td>51100</td>\n",
       "      <td>France</td>\n",
       "    </tr>\n",
       "    <tr>\n",
       "      <th>4</th>\n",
       "      <td>10739</td>\n",
       "      <td>VINET</td>\n",
       "      <td>3</td>\n",
       "      <td>2013-11-12</td>\n",
       "      <td>2013-12-10</td>\n",
       "      <td>2013-11-17</td>\n",
       "      <td>3</td>\n",
       "      <td>11.08</td>\n",
       "      <td>Vins et alcools Chevalier</td>\n",
       "      <td>59 rue de l'Abbaye</td>\n",
       "      <td>Reims</td>\n",
       "      <td>Western Europe</td>\n",
       "      <td>51100</td>\n",
       "      <td>France</td>\n",
       "    </tr>\n",
       "  </tbody>\n",
       "</table>\n",
       "</div>"
      ],
      "text/plain": [
       "      Id CustomerId  EmployeeId   OrderDate RequiredDate ShippedDate  ShipVia  \\\n",
       "0  10248      VINET           5  2012-07-04   2012-08-01  2012-07-16        3   \n",
       "1  10274      VINET           6  2012-08-06   2012-09-03  2012-08-16        1   \n",
       "2  10295      VINET           2  2012-09-02   2012-09-30  2012-09-10        2   \n",
       "3  10737      VINET           2  2013-11-11   2013-12-09  2013-11-18        2   \n",
       "4  10739      VINET           3  2013-11-12   2013-12-10  2013-11-17        3   \n",
       "\n",
       "   Freight                   ShipName         ShipAddress ShipCity  \\\n",
       "0    32.38  Vins et alcools Chevalier  59 rue de l'Abbaye    Reims   \n",
       "1     6.01  Vins et alcools Chevalier  59 rue de l'Abbaye    Reims   \n",
       "2     1.15  Vins et alcools Chevalier  59 rue de l'Abbaye    Reims   \n",
       "3     7.79  Vins et alcools Chevalier  59 rue de l'Abbaye    Reims   \n",
       "4    11.08  Vins et alcools Chevalier  59 rue de l'Abbaye    Reims   \n",
       "\n",
       "       ShipRegion ShipPostalCode ShipCountry  \n",
       "0  Western Europe          51100      France  \n",
       "1  Western Europe          51100      France  \n",
       "2  Western Europe          51100      France  \n",
       "3  Western Europe          51100      France  \n",
       "4  Western Europe          51100      France  "
      ]
     },
     "execution_count": 42,
     "metadata": {},
     "output_type": "execute_result"
    }
   ],
   "source": [
    "df = pd.read_sql_query('''SELECT * from [Order] where CustomerId = 'VINET' ''', con)\n",
    "df.head()"
   ]
  },
  {
   "cell_type": "markdown",
   "metadata": {},
   "source": [
    "Great! As we can see from the output above, when we let pandas execute the SQL query for us, the DataFrame now contains columns with the correct labels. This is a great way to execute SQL while still making sure our results are easy to read and manipulate by using DataFrames!\n",
    "\n",
    "## Executing JOIN Statements\n",
    "\n",
    "Let's try executing a JOIN statement inside `pd.read_sql_query`.\n",
    "\n",
    "In the cell below:\n",
    "\n",
    "* Write a query that gets the Order ID, Company Name, and the total count of orders made by each company (as num_orders).\n",
    "* Group the results by Company Name\n",
    "* Order the results by num_orders, descending\n",
    "* Display the head of the DataFrame to ensure everything worked correctly."
   ]
  },
  {
   "cell_type": "code",
   "execution_count": 48,
   "metadata": {},
   "outputs": [
    {
     "data": {
      "text/html": [
       "<div>\n",
       "<style scoped>\n",
       "    .dataframe tbody tr th:only-of-type {\n",
       "        vertical-align: middle;\n",
       "    }\n",
       "\n",
       "    .dataframe tbody tr th {\n",
       "        vertical-align: top;\n",
       "    }\n",
       "\n",
       "    .dataframe thead th {\n",
       "        text-align: right;\n",
       "    }\n",
       "</style>\n",
       "<table border=\"1\" class=\"dataframe\">\n",
       "  <thead>\n",
       "    <tr style=\"text-align: right;\">\n",
       "      <th></th>\n",
       "      <th>Id</th>\n",
       "      <th>CompanyName</th>\n",
       "      <th>num_orders</th>\n",
       "    </tr>\n",
       "  </thead>\n",
       "  <tbody>\n",
       "    <tr>\n",
       "      <th>0</th>\n",
       "      <td>10324</td>\n",
       "      <td>Save-a-lot Markets</td>\n",
       "      <td>31</td>\n",
       "    </tr>\n",
       "    <tr>\n",
       "      <th>1</th>\n",
       "      <td>10258</td>\n",
       "      <td>Ernst Handel</td>\n",
       "      <td>30</td>\n",
       "    </tr>\n",
       "    <tr>\n",
       "      <th>2</th>\n",
       "      <td>10273</td>\n",
       "      <td>QUICK-Stop</td>\n",
       "      <td>28</td>\n",
       "    </tr>\n",
       "    <tr>\n",
       "      <th>3</th>\n",
       "      <td>10264</td>\n",
       "      <td>Folk och fä HB</td>\n",
       "      <td>19</td>\n",
       "    </tr>\n",
       "    <tr>\n",
       "      <th>4</th>\n",
       "      <td>10298</td>\n",
       "      <td>Hungry Owl All-Night Grocers</td>\n",
       "      <td>19</td>\n",
       "    </tr>\n",
       "  </tbody>\n",
       "</table>\n",
       "</div>"
      ],
      "text/plain": [
       "      Id                   CompanyName  num_orders\n",
       "0  10324            Save-a-lot Markets          31\n",
       "1  10258                  Ernst Handel          30\n",
       "2  10273                    QUICK-Stop          28\n",
       "3  10264                Folk och fä HB          19\n",
       "4  10298  Hungry Owl All-Night Grocers          19"
      ]
     },
     "execution_count": 48,
     "metadata": {},
     "output_type": "execute_result"
    }
   ],
   "source": [
    "df = pd.read_sql_query('''\n",
    "SELECT o.ID, c.CompanyName, COUNT(*) as num_orders from [Order]\n",
    "o JOIN Customer c on c.Id = o.CustomerId\n",
    "GROUP BY c.CompanyName\n",
    "ORDER BY num_orders DESC\n",
    "''', con)\n",
    "df.head()"
   ]
  },
  {
   "cell_type": "markdown",
   "metadata": {},
   "source": [
    "### Expected Output\n",
    "\n",
    "<img src='join_results.png'>\n",
    "\n",
    "Great job! Let's see if we can execute a join that includes entities with a many-to-many relationship.\n",
    "\n",
    "### JOINs with Many-To-Many Relationships\n",
    "\n",
    "In the cell below:\n",
    "\n",
    "* Write a query that selects the LastName, FirstName and number of territories assigned for every employee. \n",
    "* Group the results by employee lastname\n",
    "* Order by the total number of territories assigned to each employee, descending\n",
    "* You'll need to make use a join table to solve this one--be sure to take a look at the ERD diagram again if needed!\n",
    "* Store your results in a DataFrame and display the head to ensure that everything worked correctly.\n",
    "\n",
    "**_NOTE:_** For long SQL statements, consider using the multiline string format in python, denoted by `\"\"\"three quotes\"\"\"` at the beginning and end.  Note that if you hit enter to move to another line, be sure to add an `\\` character at the end of the line to escape it--otherwise, your sql statements will contain `\\n` newline characters wherever you hit enter to move to the next line.  "
   ]
  },
  {
   "cell_type": "code",
   "execution_count": 70,
   "metadata": {},
   "outputs": [
    {
     "data": {
      "text/html": [
       "<div>\n",
       "<style scoped>\n",
       "    .dataframe tbody tr th:only-of-type {\n",
       "        vertical-align: middle;\n",
       "    }\n",
       "\n",
       "    .dataframe tbody tr th {\n",
       "        vertical-align: top;\n",
       "    }\n",
       "\n",
       "    .dataframe thead th {\n",
       "        text-align: right;\n",
       "    }\n",
       "</style>\n",
       "<table border=\"1\" class=\"dataframe\">\n",
       "  <thead>\n",
       "    <tr style=\"text-align: right;\">\n",
       "      <th></th>\n",
       "      <th>LastName</th>\n",
       "      <th>FirstName</th>\n",
       "      <th>TerritoriesAssigned</th>\n",
       "    </tr>\n",
       "  </thead>\n",
       "  <tbody>\n",
       "    <tr>\n",
       "      <th>0</th>\n",
       "      <td>King</td>\n",
       "      <td>Robert</td>\n",
       "      <td>10</td>\n",
       "    </tr>\n",
       "    <tr>\n",
       "      <th>1</th>\n",
       "      <td>Buchanan</td>\n",
       "      <td>Steven</td>\n",
       "      <td>7</td>\n",
       "    </tr>\n",
       "    <tr>\n",
       "      <th>2</th>\n",
       "      <td>Dodsworth</td>\n",
       "      <td>Anne</td>\n",
       "      <td>7</td>\n",
       "    </tr>\n",
       "    <tr>\n",
       "      <th>3</th>\n",
       "      <td>Fuller</td>\n",
       "      <td>Andrew</td>\n",
       "      <td>7</td>\n",
       "    </tr>\n",
       "    <tr>\n",
       "      <th>4</th>\n",
       "      <td>Suyama</td>\n",
       "      <td>Michael</td>\n",
       "      <td>5</td>\n",
       "    </tr>\n",
       "    <tr>\n",
       "      <th>5</th>\n",
       "      <td>Callahan</td>\n",
       "      <td>Laura</td>\n",
       "      <td>4</td>\n",
       "    </tr>\n",
       "    <tr>\n",
       "      <th>6</th>\n",
       "      <td>Leverling</td>\n",
       "      <td>Janet</td>\n",
       "      <td>4</td>\n",
       "    </tr>\n",
       "    <tr>\n",
       "      <th>7</th>\n",
       "      <td>Peacock</td>\n",
       "      <td>Margaret</td>\n",
       "      <td>3</td>\n",
       "    </tr>\n",
       "    <tr>\n",
       "      <th>8</th>\n",
       "      <td>Davolio</td>\n",
       "      <td>Nancy</td>\n",
       "      <td>2</td>\n",
       "    </tr>\n",
       "  </tbody>\n",
       "</table>\n",
       "</div>"
      ],
      "text/plain": [
       "    LastName FirstName  TerritoriesAssigned\n",
       "0       King    Robert                   10\n",
       "1   Buchanan    Steven                    7\n",
       "2  Dodsworth      Anne                    7\n",
       "3     Fuller    Andrew                    7\n",
       "4     Suyama   Michael                    5\n",
       "5   Callahan     Laura                    4\n",
       "6  Leverling     Janet                    4\n",
       "7    Peacock  Margaret                    3\n",
       "8    Davolio     Nancy                    2"
      ]
     },
     "execution_count": 70,
     "metadata": {},
     "output_type": "execute_result"
    }
   ],
   "source": [
    "# Join Employees and EmployeeTerritories\n",
    "\n",
    "q = pd.read_sql_query('''\n",
    "SELECT emp.LastName, emp.FirstName, COUNT(*) as TerritoriesAssigned from Employee emp\n",
    "JOIN EmployeeTerritory t on emp.Id = t.EmployeeId\n",
    "GROUP BY emp.LastName\n",
    "ORDER BY TerritoriesAssigned DESC\n",
    "''', con)\n",
    "q\n",
    "# df2 = pd.read_sql_query(q, con)\n",
    "# df2.head()"
   ]
  },
  {
   "cell_type": "markdown",
   "metadata": {},
   "source": [
    "#### Expected Output:\n",
    "\n",
    "<img src='many-to-many-results.png'>"
   ]
  },
  {
   "cell_type": "markdown",
   "metadata": {},
   "source": [
    "Great job! You've demonstrated proficiency using raw sql with SQLAlchemy. However, we haven't yet touched all the fun declarative stuff.  Let's get some practice working with SQLAlchemy `session` objects below!\n",
    "\n",
    "## Using SQLAlchemy Sessions\n",
    "\n",
    "So far, we've just been using SQLAlchemy as a way to connect to a database and run SQL queries. However, SQLAlchemy is an **_Object-Relational Mapper_**, and can map entities in our database to python objects! This can be incredibly helpful when we need to incorporate data from our database into an object-oriented program or model. \n",
    "\n",
    "Let's start by getting some practice with `session` objects, because that's where all the magic happens.\n",
    "\n",
    "### Using `.query` Objects\n",
    "\n",
    "Recall that we created a `session` object at the beginning of this lab by using SQLAlchemy's `sessionmaker` function and binding it to our `engine` object.  We haven't used our `session` object too much thus far, but now we'll use it for queries!\n",
    "\n",
    "The `session` object contains a `.query()` method which returns a query object containing the results of our query, with the results mapped to objects.  \n",
    "\n",
    "Before we can make use of Object-Relational Mappings, we need to make sure that we have mappings created that map the tables in our existing database to objects in python.  We don't want to have to do this manually, so we'll make use the `automap` module inside of `sqlalchemy.ext`.\n",
    "\n",
    "In the cell below:\n",
    "\n",
    "* Import `MetaData` from `sqlalchemy`\n",
    "* Import `automap_base` from `sqlalchemy.ext.automap`\n",
    "* Create a `MetaData` object\n",
    "* Use the metadata object's `reflect` method on our `engine`\n",
    "* Call `automap_base` and set the `metadata` parameter to our `metadata`. Store the results returned inside of the variable `Base`\n",
    "* Call `base.prepare()`\n",
    "* Map `Employee` and `Customer` to the `Employee` and `Customer` classes, which can be found inside of `Base.classes`"
   ]
  },
  {
   "cell_type": "code",
   "execution_count": 75,
   "metadata": {},
   "outputs": [],
   "source": [
    "from sqlalchemy import MetaData\n",
    "from sqlalchemy.ext.automap import automap_base\n",
    "\n",
    "metadata = MetaData()\n",
    "\n",
    "metadata.reflect(engine)\n",
    "\n",
    "Base = automap_base(metadata=metadata)\n",
    "\n",
    "# Don't forget to .prepare()!\n",
    "Base.prepare()\n",
    "\n",
    "Employee, Customer = Base.classes.Employee, Base.classes.Customer"
   ]
  },
  {
   "cell_type": "markdown",
   "metadata": {},
   "source": [
    "Now that we have some mappings set up, we can make use of `session.query()` help us query our database!\n",
    "\n",
    "### Writing Basic Queries\n",
    "\n",
    "Let's use the `query()` object to get all the employees from the `'Employee'` table. \n",
    "\n",
    "In the cell below:\n",
    "\n",
    "* Create a for loop that iterates through the results returned by a `session.query()` of the Employee table (pass this as a variable, not a string).\n",
    "* Order the results by the Employee's `.HireDate` attribute.\n",
    "* Print the last name, first name, and hire date of each employee. "
   ]
  },
  {
   "cell_type": "code",
   "execution_count": 79,
   "metadata": {},
   "outputs": [
    {
     "name": "stdout",
     "output_type": "stream",
     "text": [
      "Leverling Janet 2024-04-01\n",
      "Davolio Nancy 2024-05-01\n",
      "Fuller Andrew 2024-08-14\n",
      "Peacock Margaret 2025-05-03\n",
      "Buchanan Steven 2025-10-17\n",
      "Suyama Michael 2025-10-17\n",
      "King Robert 2026-01-02\n",
      "Callahan Laura 2026-03-05\n",
      "Dodsworth Anne 2026-11-15\n"
     ]
    }
   ],
   "source": [
    "for results in session.query(Employee).order_by(Employee.HireDate):\n",
    "    print(results.LastName, results.FirstName, results.HireDate)"
   ]
  },
  {
   "cell_type": "markdown",
   "metadata": {},
   "source": [
    "### Implicit JOINs using `.filter()`\n",
    "\n",
    "One great benefit of using `session.query()` to query our data is that we can easily execute **_implicit joins_** by making use of the `.filter()` method. \n",
    "\n",
    "So far we've only explicitly specified mappings for the `Employee` and `Customer` classes.  We'll need to do this now for the `Product` and `Category` classes before we can use them with `session.query()`.\n",
    "\n",
    "In the cell below, set the mappings for `Product` and `Category`.\n",
    "\n",
    "**_HINT:_** This will look just like the last line of the code cell where we declared our mappings previously.  No need to repeat all the steps for getting metadata and creating a `Base` class. Just set the mappings!"
   ]
  },
  {
   "cell_type": "code",
   "execution_count": 80,
   "metadata": {},
   "outputs": [],
   "source": [
    "Product, Category = Base.classes.Product, Base.classes.Category"
   ]
  },
  {
   "cell_type": "markdown",
   "metadata": {},
   "source": [
    "Great!\n",
    "\n",
    "Now, in the cell below:\n",
    "\n",
    "* Create a for loop that iterates through all results returned from a query of Products and Categories\n",
    "* Use the `.filter()` method to only include cases where the Product's `.CategoryID` matches the Category's `.Id` attribute.\n",
    "* Print out the name of each product, followed by the name of the category that it belongs to. "
   ]
  },
  {
   "cell_type": "code",
   "execution_count": 87,
   "metadata": {},
   "outputs": [
    {
     "name": "stdout",
     "output_type": "stream",
     "text": [
      " Product Name: Chai | Category: Beverages\n",
      " Product Name: Chang | Category: Beverages\n",
      " Product Name: Aniseed Syrup | Category: Condiments\n",
      " Product Name: Chef Anton's Cajun Seasoning | Category: Condiments\n",
      " Product Name: Chef Anton's Gumbo Mix | Category: Condiments\n",
      " Product Name: Grandma's Boysenberry Spread | Category: Condiments\n",
      " Product Name: Uncle Bob's Organic Dried Pears | Category: Produce\n",
      " Product Name: Northwoods Cranberry Sauce | Category: Condiments\n",
      " Product Name: Mishi Kobe Niku | Category: Meat/Poultry\n",
      " Product Name: Ikura | Category: Seafood\n",
      " Product Name: Queso Cabrales | Category: Dairy Products\n",
      " Product Name: Queso Manchego La Pastora | Category: Dairy Products\n",
      " Product Name: Konbu | Category: Seafood\n",
      " Product Name: Tofu | Category: Produce\n",
      " Product Name: Genen Shouyu | Category: Condiments\n",
      " Product Name: Pavlova | Category: Confections\n",
      " Product Name: Alice Mutton | Category: Meat/Poultry\n",
      " Product Name: Carnarvon Tigers | Category: Seafood\n",
      " Product Name: Teatime Chocolate Biscuits | Category: Confections\n",
      " Product Name: Sir Rodney's Marmalade | Category: Confections\n",
      " Product Name: Sir Rodney's Scones | Category: Confections\n",
      " Product Name: Gustaf's Knäckebröd | Category: Grains/Cereals\n",
      " Product Name: Tunnbröd | Category: Grains/Cereals\n",
      " Product Name: Guaraná Fantástica | Category: Beverages\n",
      " Product Name: NuNuCa Nuß-Nougat-Creme | Category: Confections\n",
      " Product Name: Gumbär Gummibärchen | Category: Confections\n",
      " Product Name: Schoggi Schokolade | Category: Confections\n",
      " Product Name: Rössle Sauerkraut | Category: Produce\n",
      " Product Name: Thüringer Rostbratwurst | Category: Meat/Poultry\n",
      " Product Name: Nord-Ost Matjeshering | Category: Seafood\n",
      " Product Name: Gorgonzola Telino | Category: Dairy Products\n",
      " Product Name: Mascarpone Fabioli | Category: Dairy Products\n",
      " Product Name: Geitost | Category: Dairy Products\n",
      " Product Name: Sasquatch Ale | Category: Beverages\n",
      " Product Name: Steeleye Stout | Category: Beverages\n",
      " Product Name: Inlagd Sill | Category: Seafood\n",
      " Product Name: Gravad lax | Category: Seafood\n",
      " Product Name: Côte de Blaye | Category: Beverages\n",
      " Product Name: Chartreuse verte | Category: Beverages\n",
      " Product Name: Boston Crab Meat | Category: Seafood\n",
      " Product Name: Jack's New England Clam Chowder | Category: Seafood\n",
      " Product Name: Singaporean Hokkien Fried Mee | Category: Grains/Cereals\n",
      " Product Name: Ipoh Coffee | Category: Beverages\n",
      " Product Name: Gula Malacca | Category: Condiments\n",
      " Product Name: Rogede sild | Category: Seafood\n",
      " Product Name: Spegesild | Category: Seafood\n",
      " Product Name: Zaanse koeken | Category: Confections\n",
      " Product Name: Chocolade | Category: Confections\n",
      " Product Name: Maxilaku | Category: Confections\n",
      " Product Name: Valkoinen suklaa | Category: Confections\n",
      " Product Name: Manjimup Dried Apples | Category: Produce\n",
      " Product Name: Filo Mix | Category: Grains/Cereals\n",
      " Product Name: Perth Pasties | Category: Meat/Poultry\n",
      " Product Name: Tourtière | Category: Meat/Poultry\n",
      " Product Name: Pâté chinois | Category: Meat/Poultry\n",
      " Product Name: Gnocchi di nonna Alice | Category: Grains/Cereals\n",
      " Product Name: Ravioli Angelo | Category: Grains/Cereals\n",
      " Product Name: Escargots de Bourgogne | Category: Seafood\n",
      " Product Name: Raclette Courdavault | Category: Dairy Products\n",
      " Product Name: Camembert Pierrot | Category: Dairy Products\n",
      " Product Name: Sirop d'érable | Category: Condiments\n",
      " Product Name: Tarte au sucre | Category: Confections\n",
      " Product Name: Vegie-spread | Category: Condiments\n",
      " Product Name: Wimmers gute Semmelknödel | Category: Grains/Cereals\n",
      " Product Name: Louisiana Fiery Hot Pepper Sauce | Category: Condiments\n",
      " Product Name: Louisiana Hot Spiced Okra | Category: Condiments\n",
      " Product Name: Laughing Lumberjack Lager | Category: Beverages\n",
      " Product Name: Scottish Longbreads | Category: Confections\n",
      " Product Name: Gudbrandsdalsost | Category: Dairy Products\n",
      " Product Name: Outback Lager | Category: Beverages\n",
      " Product Name: Flotemysost | Category: Dairy Products\n",
      " Product Name: Mozzarella di Giovanni | Category: Dairy Products\n",
      " Product Name: Röd Kaviar | Category: Seafood\n",
      " Product Name: Longlife Tofu | Category: Produce\n",
      " Product Name: Rhönbräu Klosterbier | Category: Beverages\n",
      " Product Name: Lakkalikööri | Category: Beverages\n",
      " Product Name: Original Frankfurter grüne Soße | Category: Condiments\n"
     ]
    }
   ],
   "source": [
    "for p, c in session.query(Product, Category).filter(Product.CategoryId == Category.Id).all():\n",
    "    print(f' Product Name: {p.ProductName} | Category: {c.CategoryName}')"
   ]
  },
  {
   "cell_type": "markdown",
   "metadata": {},
   "source": [
    "## Summary\n",
    "\n",
    "Great job! You've just used SQLAlchemy to work with a sample production database. Note that there are many, many more awesome things that SQLAlchemy can do, but they're outside the scope of this lesson.  However, if you're interested in learning more, don't be afraid to take a look at the [SQLAlchemy documentation](https://docs.sqlalchemy.org/en/latest/orm/tutorial.html) and work through some tutorials in your spare time!"
   ]
  }
 ],
 "metadata": {
  "kernelspec": {
   "display_name": "Python 3",
   "language": "python",
   "name": "python3"
  },
  "language_info": {
   "codemirror_mode": {
    "name": "ipython",
    "version": 3
   },
   "file_extension": ".py",
   "mimetype": "text/x-python",
   "name": "python",
   "nbconvert_exporter": "python",
   "pygments_lexer": "ipython3",
   "version": "3.7.3"
  }
 },
 "nbformat": 4,
 "nbformat_minor": 2
}
