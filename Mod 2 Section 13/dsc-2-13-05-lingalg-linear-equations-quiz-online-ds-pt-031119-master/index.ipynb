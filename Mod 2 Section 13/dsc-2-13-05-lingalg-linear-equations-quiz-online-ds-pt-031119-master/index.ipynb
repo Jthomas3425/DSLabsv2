{
 "cells": [
  {
   "cell_type": "markdown",
   "metadata": {},
   "source": [
    "# Systems of Linear Equations - Quiz\n",
    "\n",
    "## Introduction\n",
    "Following scenarios present problems that can be solved as system of equations, while performing substitutions and eliminations as we saw in the previous lesson. \n",
    "\n",
    "* Solve these problems by hand, showing all the steps to work out the unknown variable values \n",
    "* Verify your answers by showing the calculated values satisfy all equations\n",
    "\n",
    "## Objectives\n",
    "You will be able to:\n",
    "* Describe a system of linear equations for solving simple analytical problems\n",
    "* Solve a system of equations using elimination and substitution\n",
    "\n",
    "## Exercise 1\n",
    "#### Joe paid 12 dollars for 4 cups of coffee and 4 cups of tea. 3 cups of coffee cost as much as 2 cups of tea. \n",
    "\n",
    "#### What would be the total cost of 5 cups of coffee and 5 cups of tea ?"
   ]
  },
  {
   "cell_type": "markdown",
   "metadata": {},
   "source": [
    "## Solution\n",
    "\n",
    "> Let x be the unit price of coffee and y be the unit price of tea"
   ]
  },
  {
   "cell_type": "code",
   "execution_count": null,
   "metadata": {},
   "outputs": [],
   "source": [
    "# Solve for X first\n",
    "# 4x + 4y = 12\n",
    "# 4x = 12 - 4y\n",
    "# x = 3 - y\n",
    "\n",
    "# Plug into second equation (3x = 2y) and solve for y\n",
    "# 3(3 - y) = 2y\n",
    "# 9 - 3y = 2y\n",
    "# 9 = 5y\n",
    "# y = ~1.8\n",
    "\n",
    "# Plug y back into equation 1 and solve for (Already solved x: x = 3 - y)\n",
    "# x = 1.2\n",
    "\n",
    "# Solve new equation\n",
    "# 5(1.2) + 5(1.8)\n",
    "# 6 + 9 = 15"
   ]
  },
  {
   "cell_type": "markdown",
   "metadata": {},
   "source": [
    "## Exercise 2\n",
    "\n",
    "#### Jim has more money than Bob.  If Jim gave Bob 20 dollars , they would have the same amount.  While if Bob gave Jim 22 dollars, Jim would then have twice as much as Bob. \n",
    "\n",
    "#### How much does each one actually have?"
   ]
  },
  {
   "cell_type": "markdown",
   "metadata": {},
   "source": [
    "## Solution\n",
    "> Let x be the amount of money that Jim has and y be the amount that Bob has."
   ]
  },
  {
   "cell_type": "code",
   "execution_count": null,
   "metadata": {},
   "outputs": [],
   "source": [
    "# First Equation\n",
    "# x - 20 = y + 20: Implies taking 20 away from Jim is equivalent to Bob having 20 extra(That was given).\n",
    "\n",
    "#Second Equation\n",
    "# x + 22 = 2(y - 22): Intuition is lacking here for me. Need to think more about why this is.\n",
    "\n",
    "#Isolate x in the first equation\n",
    "# x = y + 40\n",
    "\n",
    "#Plug in to second equation\n",
    "# y + 40 + 22 = 2(y - 22)\n",
    "# y + 62 = 2y - 44\n",
    "# y + 106 = 2y\n",
    "# 106 = y\n",
    "\n",
    "#Plug result into first equation\n",
    "# x = 106 + 40\n",
    "# x = 146"
   ]
  },
  {
   "cell_type": "markdown",
   "metadata": {},
   "source": [
    "## Exercise 3\n",
    "\n",
    "#### Mia has 30 coins, consisting of quarters (25 cents) and dimes (10 cents), which total to the amount 5.70 dollars.  \n",
    "#### How many of each does she have?"
   ]
  },
  {
   "cell_type": "code",
   "execution_count": null,
   "metadata": {},
   "outputs": [],
   "source": [
    "# x + y = 30\n",
    "# .25x + .10y = 5.70\n",
    "\n",
    "# Eliminate variables\n",
    "\n",
    "# 10x + 10y = 300: Equation 1 by 10  \n",
    "# 25x + 10y = 570: Equation 2 by 100, helps to not work with decimals\n",
    "# -15x = -270\n",
    "# x = 18\n",
    "\n",
    "#Plug in to first equation\n",
    "#18 + y = 30\n",
    "#y = 12\n",
    "\n",
    "#Satisfy second equation\n",
    "#.25(18) + .10(12) = 5.70\n",
    "# 4.5 + 1.20 = 5.70\n",
    "# 5.70 = 5.70"
   ]
  },
  {
   "cell_type": "markdown",
   "metadata": {},
   "source": [
    "## Level up - Optional \n",
    "For more pratice with linear equations, Visit following links for more complex equations and online answers verification:\n",
    "\n",
    "* https://www.transum.org/software/SW/Starter_of_the_day/Students/Simultaneous_Equations.asp?Level=6\n",
    "* https://www.transum.org/software/SW/Starter_of_the_day/Students/Simultaneous_Equations.asp?Level=7"
   ]
  },
  {
   "cell_type": "markdown",
   "metadata": {},
   "source": [
    "## Summary\n",
    "In this lesson, we saw how to solve linear equations by hand to find the co-efficient values. We shall now move forward to have a deeper look into vectors and matrices and how Python and Numpy can help us solve more complex equations in an analytical context. "
   ]
  }
 ],
 "metadata": {
  "kernelspec": {
   "display_name": "Python 3",
   "language": "python",
   "name": "python3"
  },
  "language_info": {
   "codemirror_mode": {
    "name": "ipython",
    "version": 3
   },
   "file_extension": ".py",
   "mimetype": "text/x-python",
   "name": "python",
   "nbconvert_exporter": "python",
   "pygments_lexer": "ipython3",
   "version": "3.7.3"
  }
 },
 "nbformat": 4,
 "nbformat_minor": 2
}
