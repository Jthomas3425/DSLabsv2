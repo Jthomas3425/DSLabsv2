{
 "cells": [
  {
   "cell_type": "code",
   "execution_count": 74,
   "metadata": {},
   "outputs": [],
   "source": [
    "#Class Definition\n",
    "class School():\n",
    "    def __init__(self, name):\n",
    "        self.name = name\n",
    "        self._roster = {}\n",
    "\n",
    "    def roster(self):\n",
    "        return self._roster\n",
    "\n",
    "    def add_student(self, name, grade):\n",
    "        if grade in self._roster:\n",
    "            self._roster[grade].append(name)\n",
    "        else:\n",
    "            self._roster[grade] = [name]\n",
    "        return self._roster\n",
    "\n",
    "    def grade(self, grade):\n",
    "        return self._roster[grade]\n",
    "\n",
    "    def sort_roster(self):\n",
    "        new_dict = copy.deepcopy(self._roster)\n",
    "        for key in new_dict:\n",
    "            new_dict[key].sort()\n",
    "        return new_dict"
   ]
  },
  {
   "cell_type": "code",
   "execution_count": 75,
   "metadata": {},
   "outputs": [],
   "source": [
    "school = School('Middletown High School')"
   ]
  },
  {
   "cell_type": "code",
   "execution_count": 80,
   "metadata": {},
   "outputs": [
    {
     "data": {
      "text/plain": [
       "{'': [12], 12: ['Johnny Bravo', 'Peter Piper', 'Peter Piper']}"
      ]
     },
     "execution_count": 80,
     "metadata": {},
     "output_type": "execute_result"
    }
   ],
   "source": [
    "school.add_student('', 11)"
   ]
  },
  {
   "cell_type": "code",
   "execution_count": 79,
   "metadata": {},
   "outputs": [
    {
     "data": {
      "text/plain": [
       "{'': [12], 12: ['Johnny Bravo', 'Peter Piper']}"
      ]
     },
     "execution_count": 79,
     "metadata": {},
     "output_type": "execute_result"
    }
   ],
   "source": [
    "school.roster()"
   ]
  },
  {
   "cell_type": "code",
   "execution_count": null,
   "metadata": {},
   "outputs": [],
   "source": []
  },
  {
   "cell_type": "code",
   "execution_count": null,
   "metadata": {},
   "outputs": [],
   "source": []
  }
 ],
 "metadata": {
  "kernelspec": {
   "display_name": "Python 3",
   "language": "python",
   "name": "python3"
  },
  "language_info": {
   "codemirror_mode": {
    "name": "ipython",
    "version": 3
   },
   "file_extension": ".py",
   "mimetype": "text/x-python",
   "name": "python",
   "nbconvert_exporter": "python",
   "pygments_lexer": "ipython3",
   "version": "3.6.6"
  }
 },
 "nbformat": 4,
 "nbformat_minor": 2
}
